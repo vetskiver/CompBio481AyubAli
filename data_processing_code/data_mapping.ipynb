{
 "cells": [
  {
   "cell_type": "code",
   "execution_count": 2,
   "metadata": {},
   "outputs": [],
   "source": [
    "import pandas as pd\n",
    "import gzip\n"
   ]
  },
  {
   "cell_type": "code",
   "execution_count": 3,
   "metadata": {},
   "outputs": [
    {
     "name": "stdout",
     "output_type": "stream",
     "text": [
      "^DATABASE = GeoMiame\n",
      "!Database_name = Gene Expression Omnibus (GEO)\n"
     ]
    }
   ],
   "source": [
    "file_path = 'GPL15988_family.soft.gz'\n",
    "\n",
    "# Open the gzipped file in binary read mode\n",
    "with gzip.open(file_path, 'rb') as f:\n",
    "    file_content = f.read()\n",
    "\n",
    "# Decode to convert bytes to string\n",
    "text_content = file_content.decode('utf-8')\n",
    "\n",
    "# Split the content by newlines to get a list of rows\n",
    "rows = text_content.split('\\n')\n",
    "\n",
    "# Print the first two rows\n",
    "for row in rows[:2]:\n",
    "    print(row)"
   ]
  },
  {
   "cell_type": "code",
   "execution_count": null,
   "metadata": {},
   "outputs": [],
   "source": []
  }
 ],
 "metadata": {
  "kernelspec": {
   "display_name": "base",
   "language": "python",
   "name": "python3"
  },
  "language_info": {
   "codemirror_mode": {
    "name": "ipython",
    "version": 3
   },
   "file_extension": ".py",
   "mimetype": "text/x-python",
   "name": "python",
   "nbconvert_exporter": "python",
   "pygments_lexer": "ipython3",
   "version": "3.11.4"
  }
 },
 "nbformat": 4,
 "nbformat_minor": 2
}
