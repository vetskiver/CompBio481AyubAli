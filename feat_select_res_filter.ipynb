{
 "cells": [
  {
   "cell_type": "code",
   "execution_count": 1,
   "id": "96c3188d-b439-4cd5-9028-647463981cad",
   "metadata": {},
   "outputs": [],
   "source": [
    "import pandas as pd\n",
    "import os"
   ]
  },
  {
   "cell_type": "code",
   "execution_count": null,
   "id": "18299ad2-c0f0-4c8f-a07b-93707178eec3",
   "metadata": {},
   "outputs": [],
   "source": [
    "# Function to read CSV files for a specific test and bootstrap iteration\n",
    "def read_csv_for_test(bootstrap_number, test_type, base_path):\n",
    "    # Construct the file name based on parameters\n",
    "    file_name = f'bootstrap_{bootstrap_number}_{test_type}_results.csv'\n",
    "    # Construct the full path to the file\n",
    "    full_path = f'{base_path}{file_name}'\n",
    "    # Read the CSV into a DataFrame\n",
    "    df = pd.read_csv(full_path)\n",
    "    return df\n",
    "\n",
    "# Function to get common features from all three bootstrap files for a given test\n",
    "def get_common_features_individual(test_type, base_path):\n",
    "    # Read all three DataFrames for the given test type\n",
    "    dfs = [read_csv_for_test(i, test_type, base_path) for i in range(1, 4)]\n",
    "    \n",
    "    # Assuming the first column contains the feature names, create sets of features\n",
    "    feature_sets = [set(df.iloc[:, 0]) for df in dfs]\n",
    "    \n",
    "    # Find the intersection of features across all three sets\n",
    "    common_features = set.intersection(*feature_sets)\n",
    "    \n",
    "    # Select the common features from one of the DataFrames to create the final DataFrame\n",
    "    common_df = dfs[0][dfs[0].iloc[:, 0].isin(common_features)]\n",
    "    return common_df\n",
    "\n",
    "# Function to combine common features across multiple test types into one DataFrame\n",
    "def combine_common_features(base_path, files_to_combine):\n",
    "    # Read features from each file and store them in a list\n",
    "    feature_sets = []\n",
    "    for file_name in files_to_combine:\n",
    "        full_path = os.path.join(base_path, file_name)\n",
    "        df = pd.read_csv(full_path)\n",
    "        feature_sets.append(set(df['Feature']))  # Assuming the first column is 'Feature'\n",
    "    \n",
    "    # Find the intersection of all feature sets\n",
    "    common_features = set.intersection(*feature_sets)\n",
    "    \n",
    "    # Create a new DataFrame with the common features\n",
    "    common_features_df = pd.DataFrame(list(common_features), columns=['Feature'])\n",
    "    return common_features_df"
   ]
  },
  {
   "cell_type": "code",
   "execution_count": null,
   "id": "03fd0de3-8258-4f0d-9cb7-f2cefb7ab758",
   "metadata": {},
   "outputs": [],
   "source": [
    "# Base paths where the CSV files are located\n",
    "base_path_individual = '/home/aghasemi/CompBio481/feat_select/feat_select/feature_select_res_filter_individual/'\n",
    "base_path_combined = '/home/aghasemi/CompBio481/feat_select/feat_select/feature_select_res_filter_together/'\n",
    "\n",
    "# Test types to be processed individually\n",
    "test_types = ['ttest', 'mutual_score', 'pearson_corr', 'relieff', 'variance_thres']\n",
    "\n",
    "# Process each test type to find common features across bootstrap iterations\n",
    "for test_type in test_types:\n",
    "    common_features_df = get_common_features_individual(test_type, base_path_individual)\n",
    "    # Save the filtered DataFrame to a new CSV file using the test_type variable in the file name\n",
    "    common_features_df.to_csv(f'{base_path_combined}common_features_{test_type}_results.csv', index=False)"
   ]
  },
  {
   "cell_type": "code",
   "execution_count": null,
   "id": "2947e30f-bfcb-4983-9329-1e0126fe66da",
   "metadata": {},
   "outputs": [],
   "source": [
    "# List of files to be combined for the final intersection\n",
    "files_to_combine = [\n",
    "    'common_features_mutual_score_results.csv',\n",
    "    'common_features_pearson_corr_results.csv',\n",
    "    'common_features_relieff_results.csv',\n",
    "    'common_features_variance_thres_results.csv',\n",
    "    'common_features_ttest_bh_corrected_results.csv'\n",
    "]\n",
    "\n",
    "# Combine common features across multiple test types\n",
    "common_features_df = combine_common_features(base_path_combined, files_to_combine)\n",
    "\n",
    "# Save the combined DataFrame to a new CSV file\n",
    "output_file = '/home/aghasemi/CompBio481/feat_select/feat_select/final_feat_select_res/combined_common_features.csv'\n",
    "common_features_df.to_csv(os.path.join(base_path_combined, output_file), index=False)"
   ]
  }
 ],
 "metadata": {
  "kernelspec": {
   "display_name": "Python 3 (ipykernel)",
   "language": "python",
   "name": "python3"
  },
  "language_info": {
   "codemirror_mode": {
    "name": "ipython",
    "version": 3
   },
   "file_extension": ".py",
   "mimetype": "text/x-python",
   "name": "python",
   "nbconvert_exporter": "python",
   "pygments_lexer": "ipython3",
   "version": "3.11.4"
  }
 },
 "nbformat": 4,
 "nbformat_minor": 5
}
